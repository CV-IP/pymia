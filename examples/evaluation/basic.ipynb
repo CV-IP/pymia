{
 "cells": [
  {
   "cell_type": "raw",
   "metadata": {
    "pycharm": {
     "name": "#%% raw\n"
    },
    "raw_mimetype": "text/restructuredtext"
   },
   "source": [
    ".. _example-evaluation1:\n"
   ]
  },
  {
   "cell_type": "markdown",
   "metadata": {
    "pycharm": {
     "name": "#%% md\n"
    }
   },
   "source": [
    "Evaluation of results\n",
    "=====================\n",
    "\n",
    "This example shows how to use the `pymia.evaluation` package to evaluate results.\n",
    "The Jupyter notebook can be found at `./examples/evaluation/basic.ipynb`.\n",
    "\n",
    "<div class=\"alert alert-info\">\n",
    "\n",
    "Note\n",
    "\n",
    "To be able to run this example:\n",
    "\n",
    "- Get the example data by executing `./examples/example-data/pull_example_data.py`.\n",
    "- Install pandas (`pip install pandas`)\n",
    "\n",
    "</div>"
   ]
  },
  {
   "cell_type": "markdown",
   "metadata": {
    "pycharm": {
     "name": "#%% md\n"
    }
   },
   "source": [
    "Import the required modules."
   ]
  },
  {
   "cell_type": "code",
   "execution_count": 1,
   "metadata": {},
   "outputs": [],
   "source": [
    "import glob\n",
    "import os\n",
    "\n",
    "import numpy as np\n",
    "import pymia.evaluation.metric as metric\n",
    "import pymia.evaluation.evaluator as eval_\n",
    "import pymia.evaluation.writer as writer\n",
    "import SimpleITK as sitk"
   ]
  },
  {
   "cell_type": "markdown",
   "metadata": {},
   "source": [
    "Define the paths to the data and the result CSV files."
   ]
  },
  {
   "cell_type": "code",
   "execution_count": 2,
   "metadata": {},
   "outputs": [],
   "source": [
    "data_dir = '../example-data'\n",
    "\n",
    "result_file = '../example-data/results.csv'\n",
    "result_summary_file = '../example-data/results_summary.csv'"
   ]
  },
  {
   "cell_type": "markdown",
   "metadata": {},
   "source": [
    "In this example, we show how to evaluate segmentations against a reference ground truth. Common metrics in medical image segmentation are the Dice coefficient, an overlap-based metric, and the Hausdorff distance, a distance-based metric. Further, we also evaluate the volume similarity, a metric that does not consider the spatial overlap."
   ]
  },
  {
   "cell_type": "code",
   "execution_count": 3,
   "metadata": {},
   "outputs": [],
   "source": [
    "metrics = [metric.DiceCoefficient(), metric.HausdorffDistance(percentile=95, metric='HDRFDST95'), metric.VolumeSimilarity()]"
   ]
  },
  {
   "cell_type": "markdown",
   "metadata": {},
   "source": [
    "Now, we need to define the labels we want to evaluate. In the provided example data, we have five labels for different brain structures. But we are only interested in three of them: white matter, grey matter, and the thalamus."
   ]
  },
  {
   "cell_type": "code",
   "execution_count": 4,
   "metadata": {},
   "outputs": [],
   "source": [
    "labels = {1: 'WHITEMATTER',\n",
    "          2: 'GREYMATTER',\n",
    "          5: 'THALAMUS'\n",
    "          }"
   ]
  },
  {
   "cell_type": "markdown",
   "metadata": {},
   "source": [
    "Finally, we can initialize the evaluator with the metrics and labels."
   ]
  },
  {
   "cell_type": "code",
   "execution_count": 5,
   "metadata": {},
   "outputs": [],
   "source": [
    "evaluator = eval_.SegmentationEvaluator(metrics, labels)"
   ]
  },
  {
   "cell_type": "markdown",
   "metadata": {},
   "source": [
    "We can now loop over the subjects of the example data. We will load the ground truth image as reference. An artificial segmentation (prediction) is created by eroding the ground truth. Both images, and the subject identifier are passed to the evaluator."
   ]
  },
  {
   "cell_type": "code",
   "execution_count": 6,
   "metadata": {},
   "outputs": [
    {
     "name": "stdout",
     "output_type": "stream",
     "text": [
      "Evaluating Subject_1...\n",
      "Evaluating Subject_2...\n",
      "Evaluating Subject_3...\n",
      "Evaluating Subject_4...\n"
     ]
    }
   ],
   "source": [
    "# get subjects to evaluate\n",
    "subject_dirs = [subject for subject in glob.glob(os.path.join(data_dir, '*')) if os.path.isdir(subject) and os.path.basename(subject).startswith('Subject')]\n",
    "\n",
    "for subject_dir in subject_dirs:\n",
    "    subject_id = os.path.basename(subject_dir)\n",
    "    print(f'Evaluating {subject_id}...')\n",
    "\n",
    "    # load ground truth image and create artificial prediction by erosion\n",
    "    ground_truth = sitk.ReadImage(os.path.join(subject_dir, f'{subject_id}_GT.mha'))\n",
    "    prediction = ground_truth\n",
    "    for label_val in labels.keys():\n",
    "        # erode each label we are going to evaluate\n",
    "        prediction = sitk.BinaryErode(prediction, 1, sitk.sitkBall, 0, label_val)\n",
    "\n",
    "    # evaluate the \"prediction\" against the ground truth\n",
    "    evaluator.evaluate(prediction, ground_truth, subject_id)"
   ]
  },
  {
   "cell_type": "markdown",
   "metadata": {},
   "source": [
    "After we evaluated all subjects, we can use a CSV writer to write the evaluation results to a CSV file."
   ]
  },
  {
   "cell_type": "code",
   "execution_count": 7,
   "metadata": {},
   "outputs": [],
   "source": [
    "writer.CSVWriter(result_file).write(evaluator.results)"
   ]
  },
  {
   "cell_type": "markdown",
   "metadata": {},
   "source": [
    "Further, we can use a console writer to display the results in the console."
   ]
  },
  {
   "cell_type": "code",
   "execution_count": 8,
   "metadata": {},
   "outputs": [
    {
     "name": "stdout",
     "output_type": "stream",
     "text": [
      "\n",
      "Subject-wise results...\n",
      "SUBJECT    LABEL        DICE   HDRFDST95  VOLSMTY\n",
      "Subject_1  GREYMATTER   0.313  9.165      0.313  \n",
      "Subject_1  THALAMUS     0.752  2.000      0.752  \n",
      "Subject_1  WHITEMATTER  0.642  6.708      0.642  \n",
      "Subject_2  GREYMATTER   0.298  10.863     0.298  \n",
      "Subject_2  THALAMUS     0.768  2.000      0.768  \n",
      "Subject_2  WHITEMATTER  0.654  6.000      0.654  \n",
      "Subject_3  GREYMATTER   0.287  8.718      0.287  \n",
      "Subject_3  THALAMUS     0.761  2.000      0.761  \n",
      "Subject_3  WHITEMATTER  0.641  6.164      0.641  \n",
      "Subject_4  GREYMATTER   0.259  8.660      0.259  \n",
      "Subject_4  THALAMUS     0.781  2.000      0.781  \n",
      "Subject_4  WHITEMATTER  0.649  6.000      0.649  \n"
     ]
    }
   ],
   "source": [
    "print('\\nSubject-wise results...')\n",
    "writer.ConsoleWriter().write(evaluator.results)"
   ]
  },
  {
   "cell_type": "markdown",
   "metadata": {},
   "source": [
    "We can also report statistics such as the mean and standard deviation among all subjects using dedicated statistics writers. Note that you can pass any functions that take a list of floats and return a scalar value to the writers. Again, we will write a CSV file and display the results in the console."
   ]
  },
  {
   "cell_type": "code",
   "execution_count": 9,
   "metadata": {
    "pycharm": {
     "name": "#%%\n"
    }
   },
   "outputs": [
    {
     "name": "stdout",
     "output_type": "stream",
     "text": [
      "\n",
      "Aggregated statistic results...\n",
      "LABEL        METRIC     STATISTIC  VALUE\n",
      "GREYMATTER   DICE       MEAN       0.289\n",
      "GREYMATTER   DICE       STD        0.020\n",
      "GREYMATTER   HDRFDST95  MEAN       9.351\n",
      "GREYMATTER   HDRFDST95  STD        0.894\n",
      "GREYMATTER   VOLSMTY    MEAN       0.289\n",
      "GREYMATTER   VOLSMTY    STD        0.020\n",
      "THALAMUS     DICE       MEAN       0.766\n",
      "THALAMUS     DICE       STD        0.010\n",
      "THALAMUS     HDRFDST95  MEAN       2.000\n",
      "THALAMUS     HDRFDST95  STD        0.000\n",
      "THALAMUS     VOLSMTY    MEAN       0.766\n",
      "THALAMUS     VOLSMTY    STD        0.010\n",
      "WHITEMATTER  DICE       MEAN       0.647\n",
      "WHITEMATTER  DICE       STD        0.005\n",
      "WHITEMATTER  HDRFDST95  MEAN       6.218\n",
      "WHITEMATTER  HDRFDST95  STD        0.291\n",
      "WHITEMATTER  VOLSMTY    MEAN       0.647\n",
      "WHITEMATTER  VOLSMTY    STD        0.005\n"
     ]
    }
   ],
   "source": [
    "functions = {'MEAN': np.mean, 'STD': np.std}\n",
    "writer.CSVStatisticsWriter(result_summary_file, functions=functions).write(evaluator.results)\n",
    "print('\\nAggregated statistic results...')\n",
    "writer.ConsoleStatisticsWriter(functions=functions).write(evaluator.results)"
   ]
  },
  {
   "cell_type": "markdown",
   "metadata": {},
   "source": [
    "Finally, we clear the results in the evaluator such that the evaluator is ready for the next evaluation."
   ]
  },
  {
   "cell_type": "code",
   "execution_count": 10,
   "metadata": {},
   "outputs": [],
   "source": [
    "evaluator.clear()"
   ]
  },
  {
   "cell_type": "markdown",
   "metadata": {},
   "source": [
    "Now, let us have a look at the saved result CSV file."
   ]
  },
  {
   "cell_type": "code",
   "execution_count": 11,
   "metadata": {},
   "outputs": [
    {
     "data": {
      "text/html": [
       "<div>\n",
       "<style scoped>\n",
       "    .dataframe tbody tr th:only-of-type {\n",
       "        vertical-align: middle;\n",
       "    }\n",
       "\n",
       "    .dataframe tbody tr th {\n",
       "        vertical-align: top;\n",
       "    }\n",
       "\n",
       "    .dataframe thead th {\n",
       "        text-align: right;\n",
       "    }\n",
       "</style>\n",
       "<table border=\"1\" class=\"dataframe\">\n",
       "  <thead>\n",
       "    <tr style=\"text-align: right;\">\n",
       "      <th></th>\n",
       "      <th>SUBJECT;LABEL;DICE;HDRFDST95;VOLSMTY</th>\n",
       "    </tr>\n",
       "  </thead>\n",
       "  <tbody>\n",
       "    <tr>\n",
       "      <th>0</th>\n",
       "      <td>Subject_1;GREYMATTER;0.31337324502412095;9.165...</td>\n",
       "    </tr>\n",
       "    <tr>\n",
       "      <th>1</th>\n",
       "      <td>Subject_1;THALAMUS;0.7522524764796655;2.0;0.75...</td>\n",
       "    </tr>\n",
       "    <tr>\n",
       "      <th>2</th>\n",
       "      <td>Subject_1;WHITEMATTER;0.6420209637040026;6.708...</td>\n",
       "    </tr>\n",
       "    <tr>\n",
       "      <th>3</th>\n",
       "      <td>Subject_2;GREYMATTER;0.2983580521220191;10.862...</td>\n",
       "    </tr>\n",
       "    <tr>\n",
       "      <th>4</th>\n",
       "      <td>Subject_2;THALAMUS;0.7684883580649053;2.0;0.76...</td>\n",
       "    </tr>\n",
       "    <tr>\n",
       "      <th>5</th>\n",
       "      <td>Subject_2;WHITEMATTER;0.6542393455768277;6.0;0...</td>\n",
       "    </tr>\n",
       "    <tr>\n",
       "      <th>6</th>\n",
       "      <td>Subject_3;GREYMATTER;0.28745967345064033;8.717...</td>\n",
       "    </tr>\n",
       "    <tr>\n",
       "      <th>7</th>\n",
       "      <td>Subject_3;THALAMUS;0.7609778387023075;2.0;0.76...</td>\n",
       "    </tr>\n",
       "    <tr>\n",
       "      <th>8</th>\n",
       "      <td>Subject_3;WHITEMATTER;0.6412505192785168;6.164...</td>\n",
       "    </tr>\n",
       "    <tr>\n",
       "      <th>9</th>\n",
       "      <td>Subject_4;GREYMATTER;0.25850357421147135;8.660...</td>\n",
       "    </tr>\n",
       "    <tr>\n",
       "      <th>10</th>\n",
       "      <td>Subject_4;THALAMUS;0.7807535179300953;2.0;0.78...</td>\n",
       "    </tr>\n",
       "    <tr>\n",
       "      <th>11</th>\n",
       "      <td>Subject_4;WHITEMATTER;0.6492026923399021;6.0;0...</td>\n",
       "    </tr>\n",
       "  </tbody>\n",
       "</table>\n",
       "</div>"
      ],
      "text/plain": [
       "                 SUBJECT;LABEL;DICE;HDRFDST95;VOLSMTY\n",
       "0   Subject_1;GREYMATTER;0.31337324502412095;9.165...\n",
       "1   Subject_1;THALAMUS;0.7522524764796655;2.0;0.75...\n",
       "2   Subject_1;WHITEMATTER;0.6420209637040026;6.708...\n",
       "3   Subject_2;GREYMATTER;0.2983580521220191;10.862...\n",
       "4   Subject_2;THALAMUS;0.7684883580649053;2.0;0.76...\n",
       "5   Subject_2;WHITEMATTER;0.6542393455768277;6.0;0...\n",
       "6   Subject_3;GREYMATTER;0.28745967345064033;8.717...\n",
       "7   Subject_3;THALAMUS;0.7609778387023075;2.0;0.76...\n",
       "8   Subject_3;WHITEMATTER;0.6412505192785168;6.164...\n",
       "9   Subject_4;GREYMATTER;0.25850357421147135;8.660...\n",
       "10  Subject_4;THALAMUS;0.7807535179300953;2.0;0.78...\n",
       "11  Subject_4;WHITEMATTER;0.6492026923399021;6.0;0..."
      ]
     },
     "execution_count": 11,
     "metadata": {},
     "output_type": "execute_result"
    }
   ],
   "source": [
    "import pandas as pd\n",
    "\n",
    "pd.read_csv(result_file)"
   ]
  },
  {
   "cell_type": "markdown",
   "metadata": {},
   "source": [
    "And also at the saved statistics CSV file."
   ]
  },
  {
   "cell_type": "code",
   "execution_count": 12,
   "metadata": {
    "pycharm": {
     "name": "#%%\n"
    }
   },
   "outputs": [
    {
     "data": {
      "text/html": [
       "<div>\n",
       "<style scoped>\n",
       "    .dataframe tbody tr th:only-of-type {\n",
       "        vertical-align: middle;\n",
       "    }\n",
       "\n",
       "    .dataframe tbody tr th {\n",
       "        vertical-align: top;\n",
       "    }\n",
       "\n",
       "    .dataframe thead th {\n",
       "        text-align: right;\n",
       "    }\n",
       "</style>\n",
       "<table border=\"1\" class=\"dataframe\">\n",
       "  <thead>\n",
       "    <tr style=\"text-align: right;\">\n",
       "      <th></th>\n",
       "      <th>LABEL;METRIC;STATISTIC;VALUE</th>\n",
       "    </tr>\n",
       "  </thead>\n",
       "  <tbody>\n",
       "    <tr>\n",
       "      <th>0</th>\n",
       "      <td>GREYMATTER;DICE;MEAN;0.28942363620206296</td>\n",
       "    </tr>\n",
       "    <tr>\n",
       "      <th>1</th>\n",
       "      <td>GREYMATTER;DICE;STD;0.02008304592032398</td>\n",
       "    </tr>\n",
       "    <tr>\n",
       "      <th>2</th>\n",
       "      <td>GREYMATTER;HDRFDST95;MEAN;9.351495951509408</td>\n",
       "    </tr>\n",
       "    <tr>\n",
       "      <th>3</th>\n",
       "      <td>GREYMATTER;HDRFDST95;STD;0.8941607623370441</td>\n",
       "    </tr>\n",
       "    <tr>\n",
       "      <th>4</th>\n",
       "      <td>GREYMATTER;VOLSMTY;MEAN;0.28942363620206296</td>\n",
       "    </tr>\n",
       "    <tr>\n",
       "      <th>5</th>\n",
       "      <td>GREYMATTER;VOLSMTY;STD;0.020083045920323984</td>\n",
       "    </tr>\n",
       "    <tr>\n",
       "      <th>6</th>\n",
       "      <td>THALAMUS;DICE;MEAN;0.7656180477942434</td>\n",
       "    </tr>\n",
       "    <tr>\n",
       "      <th>7</th>\n",
       "      <td>THALAMUS;DICE;STD;0.010458144843435224</td>\n",
       "    </tr>\n",
       "    <tr>\n",
       "      <th>8</th>\n",
       "      <td>THALAMUS;HDRFDST95;MEAN;2.0</td>\n",
       "    </tr>\n",
       "    <tr>\n",
       "      <th>9</th>\n",
       "      <td>THALAMUS;HDRFDST95;STD;0.0</td>\n",
       "    </tr>\n",
       "    <tr>\n",
       "      <th>10</th>\n",
       "      <td>THALAMUS;VOLSMTY;MEAN;0.7656180477942434</td>\n",
       "    </tr>\n",
       "    <tr>\n",
       "      <th>11</th>\n",
       "      <td>THALAMUS;VOLSMTY;STD;0.010458144843435258</td>\n",
       "    </tr>\n",
       "    <tr>\n",
       "      <th>12</th>\n",
       "      <td>WHITEMATTER;DICE;MEAN;0.6466783802248124</td>\n",
       "    </tr>\n",
       "    <tr>\n",
       "      <th>13</th>\n",
       "      <td>WHITEMATTER;DICE;STD;0.005354753771402503</td>\n",
       "    </tr>\n",
       "    <tr>\n",
       "      <th>14</th>\n",
       "      <td>WHITEMATTER;HDRFDST95;MEAN;6.218154483867086</td>\n",
       "    </tr>\n",
       "    <tr>\n",
       "      <th>15</th>\n",
       "      <td>WHITEMATTER;HDRFDST95;STD;0.29078310604924873</td>\n",
       "    </tr>\n",
       "    <tr>\n",
       "      <th>16</th>\n",
       "      <td>WHITEMATTER;VOLSMTY;MEAN;0.6466783802248123</td>\n",
       "    </tr>\n",
       "    <tr>\n",
       "      <th>17</th>\n",
       "      <td>WHITEMATTER;VOLSMTY;STD;0.005354753771402463</td>\n",
       "    </tr>\n",
       "  </tbody>\n",
       "</table>\n",
       "</div>"
      ],
      "text/plain": [
       "                     LABEL;METRIC;STATISTIC;VALUE\n",
       "0        GREYMATTER;DICE;MEAN;0.28942363620206296\n",
       "1         GREYMATTER;DICE;STD;0.02008304592032398\n",
       "2     GREYMATTER;HDRFDST95;MEAN;9.351495951509408\n",
       "3     GREYMATTER;HDRFDST95;STD;0.8941607623370441\n",
       "4     GREYMATTER;VOLSMTY;MEAN;0.28942363620206296\n",
       "5     GREYMATTER;VOLSMTY;STD;0.020083045920323984\n",
       "6           THALAMUS;DICE;MEAN;0.7656180477942434\n",
       "7          THALAMUS;DICE;STD;0.010458144843435224\n",
       "8                     THALAMUS;HDRFDST95;MEAN;2.0\n",
       "9                      THALAMUS;HDRFDST95;STD;0.0\n",
       "10       THALAMUS;VOLSMTY;MEAN;0.7656180477942434\n",
       "11      THALAMUS;VOLSMTY;STD;0.010458144843435258\n",
       "12       WHITEMATTER;DICE;MEAN;0.6466783802248124\n",
       "13      WHITEMATTER;DICE;STD;0.005354753771402503\n",
       "14   WHITEMATTER;HDRFDST95;MEAN;6.218154483867086\n",
       "15  WHITEMATTER;HDRFDST95;STD;0.29078310604924873\n",
       "16    WHITEMATTER;VOLSMTY;MEAN;0.6466783802248123\n",
       "17   WHITEMATTER;VOLSMTY;STD;0.005354753771402463"
      ]
     },
     "execution_count": 12,
     "metadata": {},
     "output_type": "execute_result"
    }
   ],
   "source": [
    "pd.read_csv(result_summary_file)\n"
   ]
  }
 ],
 "metadata": {
  "celltoolbar": "Raw Cell Format",
  "kernelspec": {
   "display_name": "Python 3",
   "language": "python",
   "name": "python3"
  },
  "language_info": {
   "codemirror_mode": {
    "name": "ipython",
    "version": 3
   },
   "file_extension": ".py",
   "mimetype": "text/x-python",
   "name": "python",
   "nbconvert_exporter": "python",
   "pygments_lexer": "ipython3",
   "version": "3.6.9"
  }
 },
 "nbformat": 4,
 "nbformat_minor": 1
}
