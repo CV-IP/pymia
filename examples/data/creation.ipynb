{
 "cells": [
  {
   "cell_type": "raw",
   "metadata": {
    "collapsed": true,
    "pycharm": {
     "name": "#%% raw\n"
    }
   },
   "source": [
    ".. _example-data1:\n"
   ]
  },
  {
   "cell_type": "markdown",
   "source": [
    "Creation of a dataset\n",
    "=====================\n",
    "\n",
    "This example shows how to use the `pymia.data` package to create a dataset.\n",
    "The Jupyter notebook can be found at `./examples/data/creation.ipynb`.\n",
    "\n",
    "<div class=\"alert alert-info\">\n",
    "\n",
    "Note\n",
    "\n",
    "To be able to run this example:\n",
    "\n",
    "- Get the example data by executing `./examples/example-data/pull_example_data.py`.\n",
    "\n",
    "</div>\n"
   ],
   "metadata": {
    "collapsed": false
   }
  }
 ],
 "metadata": {
  "kernelspec": {
   "display_name": "Python 3",
   "language": "python",
   "name": "python3"
  },
  "language_info": {
   "codemirror_mode": {
    "name": "ipython",
    "version": 2
   },
   "file_extension": ".py",
   "mimetype": "text/x-python",
   "name": "python",
   "nbconvert_exporter": "python",
   "pygments_lexer": "ipython2",
   "version": "2.7.6"
  }
 },
 "nbformat": 4,
 "nbformat_minor": 0
}